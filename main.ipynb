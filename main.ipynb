{
 "cells": [
  {
   "cell_type": "code",
   "execution_count": 8,
   "metadata": {},
   "outputs": [],
   "source": [
    "import sys\n",
    "sys.path.insert(0, \".\")\n"
   ]
  },
  {
   "cell_type": "code",
   "execution_count": 9,
   "metadata": {
    "scrolled": false
   },
   "outputs": [
    {
     "data": {
      "text/plain": [
       "True"
      ]
     },
     "execution_count": 9,
     "metadata": {},
     "output_type": "execute_result"
    }
   ],
   "source": [
    "import os\n",
    "from dotenv import load_dotenv\n",
    "load_dotenv()"
   ]
  },
  {
   "cell_type": "code",
   "execution_count": 3,
   "metadata": {},
   "outputs": [],
   "source": [
    "from core import fitting\n",
    "from core import scraping, mapping"
   ]
  },
  {
   "cell_type": "code",
   "execution_count": 4,
   "metadata": {},
   "outputs": [],
   "source": [
    "from prediksicovidjatim import database, config, util\n",
    "from prediksicovidjatim.data.model import ModelDataRepo"
   ]
  },
  {
   "cell_type": "code",
   "execution_count": 5,
   "metadata": {
    "scrolled": true
   },
   "outputs": [],
   "source": [
    "K_TEST = os.getenv(\"K_TEST\")\n",
    "\n",
    "def init():\n",
    "    database.init()\n",
    "    config.init_plot()\n",
    "    with database.get_conn() as conn, conn.cursor() as cur:\n",
    "        ModelDataRepo.init_weights(cur)\n",
    "        mapping.init(cur)\n",
    "    "
   ]
  },
  {
   "cell_type": "code",
   "execution_count": 6,
   "metadata": {},
   "outputs": [],
   "source": [
    "init()"
   ]
  },
  {
   "cell_type": "markdown",
   "metadata": {
    "scrolled": true
   },
   "source": [
    "from prediksicovidjatim.data.map import MapDataRepo\n",
    "kabko = MapDataRepo.fetch_kabko_need_mapping(None)\n",
    "kabko[0]"
   ]
  },
  {
   "cell_type": "markdown",
   "metadata": {},
   "source": [
    "kabko = [(\"KAB. BANGKALAN\", 70)]"
   ]
  },
  {
   "cell_type": "markdown",
   "metadata": {},
   "source": [
    "from prediksicovidjatim.mapping import updater\n",
    "mapping.cache_geometry()\n",
    "len(updater.GEOMETRY_CACHE)"
   ]
  },
  {
   "cell_type": "markdown",
   "metadata": {},
   "source": [
    "u = mapping.get_updater()\n",
    "layer = u.get_layer(mapping.REAL_LAYER_ID)\n",
    "u.cache_kabko_geometry(layer, util.format_date(mapping.FIRST_TANGGAL_STR))\n",
    "from prediksicovidjatim.mapping import updater\n",
    "len(updater.GEOMETRY_CACHE)"
   ]
  },
  {
   "cell_type": "code",
   "execution_count": null,
   "metadata": {},
   "outputs": [
    {
     "name": "stdout",
     "output_type": "stream",
     "text": [
      "38 kabko needs updating\n",
      "Caching kabko geometry\n"
     ]
    }
   ],
   "source": [
    "mapping.update_map_all()\n",
    "util.lprofile.print_stats()"
   ]
  },
  {
   "cell_type": "markdown",
   "metadata": {
    "scrolled": true
   },
   "source": [
    "fitting.fit_all(kabko=[\"KAB. BANGKALAN\", \"KOTA SURABAYA\", \"KOTA BLITAR\", \"KAB. SAMPANG\"], max_process_count=2)\n",
    "util.lprofile.print_stats()"
   ]
  },
  {
   "cell_type": "code",
   "execution_count": null,
   "metadata": {},
   "outputs": [],
   "source": [
    "import gc\n",
    "gc.collect()"
   ]
  },
  {
   "cell_type": "code",
   "execution_count": null,
   "metadata": {},
   "outputs": [],
   "source": [
    "import clock\n",
    "\n",
    "clock.daily_job()"
   ]
  },
  {
   "cell_type": "code",
   "execution_count": null,
   "metadata": {},
   "outputs": [],
   "source": []
  }
 ],
 "metadata": {
  "kernelspec": {
   "display_name": "Python 3",
   "language": "python",
   "name": "python3"
  },
  "language_info": {
   "codemirror_mode": {
    "name": "ipython",
    "version": 3
   },
   "file_extension": ".py",
   "mimetype": "text/x-python",
   "name": "python",
   "nbconvert_exporter": "python",
   "pygments_lexer": "ipython3",
   "version": "3.7.6"
  }
 },
 "nbformat": 4,
 "nbformat_minor": 4
}
