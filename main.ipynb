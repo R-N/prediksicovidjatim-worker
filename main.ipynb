{
 "cells": [
  {
   "cell_type": "code",
   "execution_count": 1,
   "metadata": {},
   "outputs": [],
   "source": [
    "import sys\n",
    "sys.path.insert(0, \".\")\n"
   ]
  },
  {
   "cell_type": "code",
   "execution_count": 2,
   "metadata": {
    "scrolled": false
   },
   "outputs": [
    {
     "data": {
      "text/plain": [
       "True"
      ]
     },
     "execution_count": 2,
     "metadata": {},
     "output_type": "execute_result"
    }
   ],
   "source": [
    "import os\n",
    "from dotenv import load_dotenv\n",
    "load_dotenv()"
   ]
  },
  {
   "cell_type": "code",
   "execution_count": 3,
   "metadata": {},
   "outputs": [
    {
     "name": "stdout",
     "output_type": "stream",
     "text": [
      "Fitting 36 kabko with [] test_splits and 1 process\n",
      "Fitting KAB. BANGKALAN with [] test_splits\n",
      "Done fitting KAB. BANGKALAN with [] test_splits\n",
      "Fitting KAB. BANYUWANGI with [] test_splits\n",
      "Done fitting KAB. BANYUWANGI with [] test_splits\n",
      "Fitting KAB. BLITAR with [] test_splits\n",
      "Done fitting KAB. BLITAR with [] test_splits\n",
      "Fitting KAB. BOJONEGORO with [] test_splits\n",
      "Done fitting KAB. BOJONEGORO with [] test_splits\n",
      "Fitting KAB. BONDOWOSO with [] test_splits\n",
      "Done fitting KAB. BONDOWOSO with [] test_splits\n",
      "Fitting KAB. GRESIK with [] test_splits\n",
      "Done fitting KAB. GRESIK with [] test_splits\n",
      "Fitting KAB. JEMBER with [] test_splits\n",
      "Done fitting KAB. JEMBER with [] test_splits\n",
      "Fitting KAB. JOMBANG with [] test_splits\n",
      "Done fitting KAB. JOMBANG with [] test_splits\n",
      "Fitting KAB. KEDIRI with [] test_splits\n",
      "Done fitting KAB. KEDIRI with [] test_splits\n",
      "Fitting KAB. LAMONGAN with [] test_splits\n",
      "Done fitting KAB. LAMONGAN with [] test_splits\n",
      "Fitting KAB. LUMAJANG with [] test_splits\n",
      "Done fitting KAB. LUMAJANG with [] test_splits\n",
      "Fitting KAB. MADIUN with [] test_splits\n",
      "Done fitting KAB. MADIUN with [] test_splits\n",
      "Fitting KAB. MAGETAN with [] test_splits\n",
      "Done fitting KAB. MAGETAN with [] test_splits\n",
      "Fitting KAB. MALANG with [] test_splits\n",
      "Done fitting KAB. MALANG with [] test_splits\n",
      "Fitting KAB. MOJOKERTO with [] test_splits\n"
     ]
    },
    {
     "name": "stderr",
     "output_type": "stream",
     "text": [
      "Traceback (most recent call last):\n",
      "  File \".\\clock.py\", line 33, in weekly_job_1\n",
      "  File \".\\main.py\", line 40, in fit\n",
      "    fitting.fit_all(test_splits)\n",
      "  File \".\\core\\fitting.py\", line 51, in fit_all\n",
      "    print(\"Fitting %s with %s test_splits, out of %s kabko\" % (selected_kabko, str(test_splits), str(count)))\n",
      "  File \".\\core\\fitting.py\", line 34, in fit\n",
      "    with db.get_conn() as conn, conn.cursor() as cur:\n",
      "  File \"C:\\ProgramData\\Anaconda3\\lib\\contextlib.py\", line 112, in __enter__\n",
      "    return next(self.gen)\n",
      "  File \"c:\\users\\lenovox230i\\github\\prediksicovidjatim-core\\prediksicovidjatim\\database.py\", line 29, in get_conn\n",
      "    conn = self.conn_pool.getconn(key)\n",
      "  File \"C:\\ProgramData\\Anaconda3\\lib\\site-packages\\psycopg2\\pool.py\", line 169, in getconn\n",
      "    return self._getconn(key)\n",
      "  File \"C:\\ProgramData\\Anaconda3\\lib\\site-packages\\psycopg2\\pool.py\", line 93, in _getconn\n",
      "    return self._connect(key)\n",
      "  File \"C:\\ProgramData\\Anaconda3\\lib\\site-packages\\psycopg2\\pool.py\", line 63, in _connect\n",
      "    conn = psycopg2.connect(*self._args, **self._kwargs)\n",
      "  File \"C:\\ProgramData\\Anaconda3\\lib\\site-packages\\psycopg2\\__init__.py\", line 127, in connect\n",
      "    conn = _connect(dsn, connection_factory=connection_factory, **kwasync)\n",
      "psycopg2.OperationalError: could not translate host name \"ec2-54-243-67-199.compute-1.amazonaws.com\" to address: Unknown server error\n",
      "\n",
      "Traceback (most recent call last):\n",
      "  File \".\\clock.py\", line 37, in weekly_job_1\n",
      "    try:\n",
      "  File \".\\main.py\", line 31, in map\n",
      "    mapping.init()\n",
      "  File \".\\core\\mapping.py\", line 35, in init\n",
      "    FIRST_TANGGAL = MapDataRepo.get_oldest_tanggal(None, cur)\n",
      "  File \"c:\\users\\lenovox230i\\github\\prediksicovidjatim-core\\prediksicovidjatim\\data\\raw\\repo.py\", line 42, in get_oldest_tanggal\n",
      "    with database.get_conn() as conn, conn.cursor() as cur:\n",
      "  File \"C:\\ProgramData\\Anaconda3\\lib\\contextlib.py\", line 112, in __enter__\n",
      "    return next(self.gen)\n",
      "  File \"c:\\users\\lenovox230i\\github\\prediksicovidjatim-core\\prediksicovidjatim\\database.py\", line 29, in get_conn\n",
      "    conn = self.conn_pool.getconn(key)\n",
      "  File \"C:\\ProgramData\\Anaconda3\\lib\\site-packages\\psycopg2\\pool.py\", line 169, in getconn\n",
      "    return self._getconn(key)\n",
      "  File \"C:\\ProgramData\\Anaconda3\\lib\\site-packages\\psycopg2\\pool.py\", line 93, in _getconn\n",
      "    return self._connect(key)\n",
      "  File \"C:\\ProgramData\\Anaconda3\\lib\\site-packages\\psycopg2\\pool.py\", line 63, in _connect\n",
      "    conn = psycopg2.connect(*self._args, **self._kwargs)\n",
      "  File \"C:\\ProgramData\\Anaconda3\\lib\\site-packages\\psycopg2\\__init__.py\", line 127, in connect\n",
      "    conn = _connect(dsn, connection_factory=connection_factory, **kwasync)\n",
      "psycopg2.OperationalError: could not translate host name \"ec2-54-243-67-199.compute-1.amazonaws.com\" to address: Unknown server error\n",
      "\n"
     ]
    }
   ],
   "source": [
    "import clock\n",
    "\n",
    "clock.weekly_job_1()"
   ]
  },
  {
   "cell_type": "code",
   "execution_count": 4,
   "metadata": {},
   "outputs": [],
   "source": [
    "import os\n",
    "os.getenv(\"ASSDASD\")"
   ]
  },
  {
   "cell_type": "code",
   "execution_count": 6,
   "metadata": {},
   "outputs": [
    {
     "data": {
      "text/plain": [
       "datetime.datetime(2020, 7, 29, 0, 32, 37, 827563)"
      ]
     },
     "execution_count": 6,
     "metadata": {},
     "output_type": "execute_result"
    }
   ],
   "source": [
    "import datetime\n",
    "datetime.datetime.now()"
   ]
  },
  {
   "cell_type": "code",
   "execution_count": 7,
   "metadata": {},
   "outputs": [
    {
     "ename": "NameError",
     "evalue": "name 'undefined' is not defined",
     "output_type": "error",
     "traceback": [
      "\u001b[1;31m---------------------------------------------------------------------------\u001b[0m",
      "\u001b[1;31mNameError\u001b[0m                                 Traceback (most recent call last)",
      "\u001b[1;32m<ipython-input-7-959ec2a5248e>\u001b[0m in \u001b[0;36m<module>\u001b[1;34m\u001b[0m\n\u001b[1;32m----> 1\u001b[1;33m \u001b[0mundefined\u001b[0m\u001b[1;33m\u001b[0m\u001b[1;33m\u001b[0m\u001b[0m\n\u001b[0m",
      "\u001b[1;31mNameError\u001b[0m: name 'undefined' is not defined"
     ]
    }
   ],
   "source": [
    "undefined"
   ]
  },
  {
   "cell_type": "code",
   "execution_count": 8,
   "metadata": {},
   "outputs": [
    {
     "data": {
      "text/plain": [
       "'asd'"
      ]
     },
     "execution_count": 8,
     "metadata": {},
     "output_type": "execute_result"
    }
   ],
   "source": [
    "\"ASD\".lower()"
   ]
  },
  {
   "cell_type": "code",
   "execution_count": 9,
   "metadata": {},
   "outputs": [
    {
     "ename": "JobLookupError",
     "evalue": "'No job by the id of my_job_id was found'",
     "output_type": "error",
     "traceback": [
      "\u001b[1;31m---------------------------------------------------------------------------\u001b[0m",
      "\u001b[1;31mJobLookupError\u001b[0m                            Traceback (most recent call last)",
      "\u001b[1;32m<ipython-input-9-9501aa45c3c8>\u001b[0m in \u001b[0;36m<module>\u001b[1;34m\u001b[0m\n\u001b[0;32m      2\u001b[0m \u001b[1;33m\u001b[0m\u001b[0m\n\u001b[0;32m      3\u001b[0m \u001b[0msched\u001b[0m \u001b[1;33m=\u001b[0m \u001b[0mBlockingScheduler\u001b[0m\u001b[1;33m(\u001b[0m\u001b[1;33m)\u001b[0m\u001b[1;33m\u001b[0m\u001b[1;33m\u001b[0m\u001b[0m\n\u001b[1;32m----> 4\u001b[1;33m \u001b[0msched\u001b[0m\u001b[1;33m.\u001b[0m\u001b[0mremove_job\u001b[0m\u001b[1;33m(\u001b[0m\u001b[1;34m'my_job_id'\u001b[0m\u001b[1;33m)\u001b[0m\u001b[1;33m\u001b[0m\u001b[1;33m\u001b[0m\u001b[0m\n\u001b[0m",
      "\u001b[1;32mC:\\ProgramData\\Anaconda3\\lib\\site-packages\\apscheduler\\schedulers\\base.py\u001b[0m in \u001b[0;36mremove_job\u001b[1;34m(self, job_id, jobstore)\u001b[0m\n\u001b[0;32m    619\u001b[0m \u001b[1;33m\u001b[0m\u001b[0m\n\u001b[0;32m    620\u001b[0m         \u001b[1;32mif\u001b[0m \u001b[0mjobstore_alias\u001b[0m \u001b[1;32mis\u001b[0m \u001b[1;32mNone\u001b[0m\u001b[1;33m:\u001b[0m\u001b[1;33m\u001b[0m\u001b[1;33m\u001b[0m\u001b[0m\n\u001b[1;32m--> 621\u001b[1;33m             \u001b[1;32mraise\u001b[0m \u001b[0mJobLookupError\u001b[0m\u001b[1;33m(\u001b[0m\u001b[0mjob_id\u001b[0m\u001b[1;33m)\u001b[0m\u001b[1;33m\u001b[0m\u001b[1;33m\u001b[0m\u001b[0m\n\u001b[0m\u001b[0;32m    622\u001b[0m \u001b[1;33m\u001b[0m\u001b[0m\n\u001b[0;32m    623\u001b[0m         \u001b[1;31m# Notify listeners that a job has been removed\u001b[0m\u001b[1;33m\u001b[0m\u001b[1;33m\u001b[0m\u001b[1;33m\u001b[0m\u001b[0m\n",
      "\u001b[1;31mJobLookupError\u001b[0m: 'No job by the id of my_job_id was found'"
     ]
    }
   ],
   "source": [
    "from apscheduler.schedulers.blocking import BlockingScheduler\n",
    "\n",
    "sched = BlockingScheduler()\n",
    "sched.remove_job('my_job_id')"
   ]
  },
  {
   "cell_type": "code",
   "execution_count": 10,
   "metadata": {},
   "outputs": [],
   "source": [
    "from apscheduler.jobstores.base import JobLookupError"
   ]
  },
  {
   "cell_type": "code",
   "execution_count": null,
   "metadata": {},
   "outputs": [],
   "source": []
  }
 ],
 "metadata": {
  "kernelspec": {
   "display_name": "Python 3",
   "language": "python",
   "name": "python3"
  },
  "language_info": {
   "codemirror_mode": {
    "name": "ipython",
    "version": 3
   },
   "file_extension": ".py",
   "mimetype": "text/x-python",
   "name": "python",
   "nbconvert_exporter": "python",
   "pygments_lexer": "ipython3",
   "version": "3.7.6"
  }
 },
 "nbformat": 4,
 "nbformat_minor": 4
}
