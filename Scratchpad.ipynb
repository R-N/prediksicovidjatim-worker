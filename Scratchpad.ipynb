{
 "cells": [
  {
   "cell_type": "code",
   "execution_count": 2,
   "metadata": {},
   "outputs": [],
   "source": [
    "from arcgis.gis import GIS\n",
    "\n",
    "import os\n",
    "from dotenv import load_dotenv\n",
    "load_dotenv()\n",
    "ARCGIS_USER = os.getenv(\"ARCGIS_USER\")\n",
    "ARCGIS_PASS = os.getenv(\"ARCGIS_PASS\")\n",
    "ARCGIS_PORTAL = os.getenv(\"ARCGIS_PORTAL\")\n",
    "\n",
    "REAL_LAYER_ID = os.getenv(\"REAL_LAYER_ID\")\n",
    "PRED_LAYER_ID = os.getenv(\"PRED_LAYER_ID\")"
   ]
  },
  {
   "cell_type": "code",
   "execution_count": 4,
   "metadata": {},
   "outputs": [
    {
     "data": {
      "text/html": [
       "GIS @ <a href=\"https://pcovidjatim.maps.arcgis.com\">https://pcovidjatim.maps.arcgis.com</a>"
      ],
      "text/plain": [
       "GIS @ https://pcovidjatim.maps.arcgis.com version:8.2"
      ]
     },
     "execution_count": 4,
     "metadata": {},
     "output_type": "execute_result"
    }
   ],
   "source": [
    "gis = GIS(ARCGIS_PORTAL, ARCGIS_USER, ARCGIS_PASS)\n",
    "gis"
   ]
  },
  {
   "cell_type": "code",
   "execution_count": 5,
   "metadata": {},
   "outputs": [
    {
     "data": {
      "text/plain": [
       "<FeatureLayer url:\"https://services2.arcgis.com/gxevpFKXaRT0UMCs/arcgis/rest/services/MapDataRealFix/FeatureServer/0\">"
      ]
     },
     "execution_count": 5,
     "metadata": {},
     "output_type": "execute_result"
    }
   ],
   "source": [
    "real_layer = gis.content.get(REAL_LAYER_ID).layers[0]\n",
    "real_layer"
   ]
  },
  {
   "cell_type": "code",
   "execution_count": 10,
   "metadata": {},
   "outputs": [
    {
     "name": "stdout",
     "output_type": "stream",
     "text": [
      "['FID', 'kabko']\n"
     ]
    }
   ],
   "source": [
    "layer = real_layer\n",
    "fset = layer.query(\n",
    "    where='tanggal = DATE \\'%s\\'' % ('2020-03-20',), \n",
    "    out_fields='kabko',\n",
    "    return_geometry=True\n",
    ")\n",
    "features = fset.features\n",
    "print(str(list(features[0].attributes.keys())))"
   ]
  },
  {
   "cell_type": "code",
   "execution_count": 11,
   "metadata": {},
   "outputs": [
    {
     "data": {
      "text/html": [
       "<div>\n",
       "<style scoped>\n",
       "    .dataframe tbody tr th:only-of-type {\n",
       "        vertical-align: middle;\n",
       "    }\n",
       "\n",
       "    .dataframe tbody tr th {\n",
       "        vertical-align: top;\n",
       "    }\n",
       "\n",
       "    .dataframe thead th {\n",
       "        text-align: right;\n",
       "    }\n",
       "</style>\n",
       "<table border=\"1\" class=\"dataframe\">\n",
       "  <thead>\n",
       "    <tr style=\"text-align: right;\">\n",
       "      <th></th>\n",
       "      <th>FID</th>\n",
       "      <th>kabko</th>\n",
       "      <th>SHAPE</th>\n",
       "    </tr>\n",
       "  </thead>\n",
       "  <tbody>\n",
       "    <tr>\n",
       "      <th>0</th>\n",
       "      <td>1</td>\n",
       "      <td>KAB. PACITAN</td>\n",
       "      <td>{\"rings\": [[[12398212.5324145, -924291.1972952...</td>\n",
       "    </tr>\n",
       "    <tr>\n",
       "      <th>1</th>\n",
       "      <td>2</td>\n",
       "      <td>KAB. PONOROGO</td>\n",
       "      <td>{\"rings\": [[[12431559.4588205, -867929.5864498...</td>\n",
       "    </tr>\n",
       "    <tr>\n",
       "      <th>2</th>\n",
       "      <td>3</td>\n",
       "      <td>KAB. TRENGGALEK</td>\n",
       "      <td>{\"rings\": [[[12428897.7521259, -936501.7950417...</td>\n",
       "    </tr>\n",
       "    <tr>\n",
       "      <th>3</th>\n",
       "      <td>4</td>\n",
       "      <td>KAB. TULUNGAGUNG</td>\n",
       "      <td>{\"rings\": [[[12452636.5438358, -924841.1106038...</td>\n",
       "    </tr>\n",
       "    <tr>\n",
       "      <th>4</th>\n",
       "      <td>5</td>\n",
       "      <td>KAB. BLITAR</td>\n",
       "      <td>{\"rings\": [[[12484464.078125, -929735.9375], [...</td>\n",
       "    </tr>\n",
       "    <tr>\n",
       "      <th>5</th>\n",
       "      <td>6</td>\n",
       "      <td>KAB. KEDIRI</td>\n",
       "      <td>{\"rings\": [[[12465124.65625, -894818.953125], ...</td>\n",
       "    </tr>\n",
       "    <tr>\n",
       "      <th>6</th>\n",
       "      <td>7</td>\n",
       "      <td>KAB. MALANG</td>\n",
       "      <td>{\"rings\": [[[12559793.625, -935436.09375], [12...</td>\n",
       "    </tr>\n",
       "    <tr>\n",
       "      <th>7</th>\n",
       "      <td>8</td>\n",
       "      <td>KAB. LUMAJANG</td>\n",
       "      <td>{\"rings\": [[[12611945.152673, -885343.45019103...</td>\n",
       "    </tr>\n",
       "    <tr>\n",
       "      <th>8</th>\n",
       "      <td>9</td>\n",
       "      <td>KAB. JEMBER</td>\n",
       "      <td>{\"rings\": [[[12670164.4199605, -956789.2698921...</td>\n",
       "    </tr>\n",
       "    <tr>\n",
       "      <th>9</th>\n",
       "      <td>10</td>\n",
       "      <td>KAB. BANYUWANGI</td>\n",
       "      <td>{\"rings\": [[[12713113.5295001, -967408.7184013...</td>\n",
       "    </tr>\n",
       "    <tr>\n",
       "      <th>10</th>\n",
       "      <td>11</td>\n",
       "      <td>KAB. BONDOWOSO</td>\n",
       "      <td>{\"rings\": [[[12691690.7818267, -866777.6032902...</td>\n",
       "    </tr>\n",
       "    <tr>\n",
       "      <th>11</th>\n",
       "      <td>12</td>\n",
       "      <td>KAB. SITUBONDO</td>\n",
       "      <td>{\"rings\": [[[12694799.8343104, -849055.6853659...</td>\n",
       "    </tr>\n",
       "    <tr>\n",
       "      <th>12</th>\n",
       "      <td>13</td>\n",
       "      <td>KAB. PROBOLINGGO</td>\n",
       "      <td>{\"rings\": [[[12611945.152673, -885343.45019103...</td>\n",
       "    </tr>\n",
       "    <tr>\n",
       "      <th>13</th>\n",
       "      <td>14</td>\n",
       "      <td>KAB. PASURUAN</td>\n",
       "      <td>{\"rings\": [[[12546401.844058, -842405.64599204...</td>\n",
       "    </tr>\n",
       "    <tr>\n",
       "      <th>14</th>\n",
       "      <td>15</td>\n",
       "      <td>KAB. SIDOARJO</td>\n",
       "      <td>{\"rings\": [[[12561571.1198718, -819316.7940874...</td>\n",
       "    </tr>\n",
       "    <tr>\n",
       "      <th>15</th>\n",
       "      <td>16</td>\n",
       "      <td>KAB. MOJOKERTO</td>\n",
       "      <td>{\"rings\": [[[12518526.09375, -868641.734375], ...</td>\n",
       "    </tr>\n",
       "    <tr>\n",
       "      <th>16</th>\n",
       "      <td>17</td>\n",
       "      <td>KAB. JOMBANG</td>\n",
       "      <td>{\"rings\": [[[12505069.4322592, -819971.2131155...</td>\n",
       "    </tr>\n",
       "    <tr>\n",
       "      <th>17</th>\n",
       "      <td>18</td>\n",
       "      <td>KAB. NGANJUK</td>\n",
       "      <td>{\"rings\": [[[12473173.4742654, -825403.2772490...</td>\n",
       "    </tr>\n",
       "    <tr>\n",
       "      <th>18</th>\n",
       "      <td>19</td>\n",
       "      <td>KAB. MADIUN</td>\n",
       "      <td>{\"rings\": [[[12413466.375, -854180.578125], [1...</td>\n",
       "    </tr>\n",
       "    <tr>\n",
       "      <th>19</th>\n",
       "      <td>20</td>\n",
       "      <td>KAB. MAGETAN</td>\n",
       "      <td>{\"rings\": [[[12408464.4338867, -838399.8608953...</td>\n",
       "    </tr>\n",
       "    <tr>\n",
       "      <th>20</th>\n",
       "      <td>21</td>\n",
       "      <td>KAB. NGAWI</td>\n",
       "      <td>{\"rings\": [[[12378113.8915358, -850813.1826907...</td>\n",
       "    </tr>\n",
       "    <tr>\n",
       "      <th>21</th>\n",
       "      <td>22</td>\n",
       "      <td>KAB. BOJONEGORO</td>\n",
       "      <td>{\"rings\": [[[12427527.4932654, -780695.2634477...</td>\n",
       "    </tr>\n",
       "    <tr>\n",
       "      <th>22</th>\n",
       "      <td>23</td>\n",
       "      <td>KAB. TUBAN</td>\n",
       "      <td>{\"rings\": [[[12434391.8479886, -754223.6068691...</td>\n",
       "    </tr>\n",
       "    <tr>\n",
       "      <th>23</th>\n",
       "      <td>24</td>\n",
       "      <td>KAB. LAMONGAN</td>\n",
       "      <td>{\"rings\": [[[12517868.6206368, -767409.8462843...</td>\n",
       "    </tr>\n",
       "    <tr>\n",
       "      <th>24</th>\n",
       "      <td>25</td>\n",
       "      <td>KAB. GRESIK</td>\n",
       "      <td>{\"rings\": [[[12521919.9188342, -770033.4786516...</td>\n",
       "    </tr>\n",
       "    <tr>\n",
       "      <th>25</th>\n",
       "      <td>26</td>\n",
       "      <td>KAB. BANGKALAN</td>\n",
       "      <td>{\"rings\": [[[12582917.5055605, -767681.1541382...</td>\n",
       "    </tr>\n",
       "    <tr>\n",
       "      <th>26</th>\n",
       "      <td>27</td>\n",
       "      <td>KAB. SAMPANG</td>\n",
       "      <td>{\"rings\": [[[12602040.3267406, -815588.2429097...</td>\n",
       "    </tr>\n",
       "    <tr>\n",
       "      <th>27</th>\n",
       "      <td>28</td>\n",
       "      <td>KAB. PAMEKASAN</td>\n",
       "      <td>{\"rings\": [[[12634996.4081082, -808171.7020585...</td>\n",
       "    </tr>\n",
       "    <tr>\n",
       "      <th>28</th>\n",
       "      <td>29</td>\n",
       "      <td>KAB. SUMENEP</td>\n",
       "      <td>{\"rings\": [[[12660138.62751, -809304.039542525...</td>\n",
       "    </tr>\n",
       "    <tr>\n",
       "      <th>29</th>\n",
       "      <td>30</td>\n",
       "      <td>KOTA KEDIRI</td>\n",
       "      <td>{\"rings\": [[[12468098.5417425, -867787.5495061...</td>\n",
       "    </tr>\n",
       "    <tr>\n",
       "      <th>30</th>\n",
       "      <td>31</td>\n",
       "      <td>KOTA BLITAR</td>\n",
       "      <td>{\"rings\": [[[12488553.5173264, -899799.0696092...</td>\n",
       "    </tr>\n",
       "    <tr>\n",
       "      <th>31</th>\n",
       "      <td>32</td>\n",
       "      <td>KOTA MALANG</td>\n",
       "      <td>{\"rings\": [[[12537945.816008, -883491.73867398...</td>\n",
       "    </tr>\n",
       "    <tr>\n",
       "      <th>32</th>\n",
       "      <td>33</td>\n",
       "      <td>KOTA PROBOLINGGO</td>\n",
       "      <td>{\"rings\": [[[12603232.4560908, -863449.8475717...</td>\n",
       "    </tr>\n",
       "    <tr>\n",
       "      <th>33</th>\n",
       "      <td>34</td>\n",
       "      <td>KOTA PASURUAN</td>\n",
       "      <td>{\"rings\": [[[12573757.6815336, -851199.0053771...</td>\n",
       "    </tr>\n",
       "    <tr>\n",
       "      <th>34</th>\n",
       "      <td>35</td>\n",
       "      <td>KOTA MOJOKERTO</td>\n",
       "      <td>{\"rings\": [[[12518712.9595469, -832436.2826191...</td>\n",
       "    </tr>\n",
       "    <tr>\n",
       "      <th>35</th>\n",
       "      <td>36</td>\n",
       "      <td>KOTA MADIUN</td>\n",
       "      <td>{\"rings\": [[[12413429.4027088, -856838.9445745...</td>\n",
       "    </tr>\n",
       "    <tr>\n",
       "      <th>36</th>\n",
       "      <td>37</td>\n",
       "      <td>KOTA SURABAYA</td>\n",
       "      <td>{\"rings\": [[[12541576.1154108, -802857.1034296...</td>\n",
       "    </tr>\n",
       "    <tr>\n",
       "      <th>37</th>\n",
       "      <td>38</td>\n",
       "      <td>KOTA BATU</td>\n",
       "      <td>{\"rings\": [[[12527364.1207422, -862574.1915551...</td>\n",
       "    </tr>\n",
       "  </tbody>\n",
       "</table>\n",
       "</div>"
      ],
      "text/plain": [
       "    FID             kabko                                              SHAPE\n",
       "0     1      KAB. PACITAN  {\"rings\": [[[12398212.5324145, -924291.1972952...\n",
       "1     2     KAB. PONOROGO  {\"rings\": [[[12431559.4588205, -867929.5864498...\n",
       "2     3   KAB. TRENGGALEK  {\"rings\": [[[12428897.7521259, -936501.7950417...\n",
       "3     4  KAB. TULUNGAGUNG  {\"rings\": [[[12452636.5438358, -924841.1106038...\n",
       "4     5       KAB. BLITAR  {\"rings\": [[[12484464.078125, -929735.9375], [...\n",
       "5     6       KAB. KEDIRI  {\"rings\": [[[12465124.65625, -894818.953125], ...\n",
       "6     7       KAB. MALANG  {\"rings\": [[[12559793.625, -935436.09375], [12...\n",
       "7     8     KAB. LUMAJANG  {\"rings\": [[[12611945.152673, -885343.45019103...\n",
       "8     9       KAB. JEMBER  {\"rings\": [[[12670164.4199605, -956789.2698921...\n",
       "9    10   KAB. BANYUWANGI  {\"rings\": [[[12713113.5295001, -967408.7184013...\n",
       "10   11    KAB. BONDOWOSO  {\"rings\": [[[12691690.7818267, -866777.6032902...\n",
       "11   12    KAB. SITUBONDO  {\"rings\": [[[12694799.8343104, -849055.6853659...\n",
       "12   13  KAB. PROBOLINGGO  {\"rings\": [[[12611945.152673, -885343.45019103...\n",
       "13   14     KAB. PASURUAN  {\"rings\": [[[12546401.844058, -842405.64599204...\n",
       "14   15     KAB. SIDOARJO  {\"rings\": [[[12561571.1198718, -819316.7940874...\n",
       "15   16    KAB. MOJOKERTO  {\"rings\": [[[12518526.09375, -868641.734375], ...\n",
       "16   17      KAB. JOMBANG  {\"rings\": [[[12505069.4322592, -819971.2131155...\n",
       "17   18      KAB. NGANJUK  {\"rings\": [[[12473173.4742654, -825403.2772490...\n",
       "18   19       KAB. MADIUN  {\"rings\": [[[12413466.375, -854180.578125], [1...\n",
       "19   20      KAB. MAGETAN  {\"rings\": [[[12408464.4338867, -838399.8608953...\n",
       "20   21        KAB. NGAWI  {\"rings\": [[[12378113.8915358, -850813.1826907...\n",
       "21   22   KAB. BOJONEGORO  {\"rings\": [[[12427527.4932654, -780695.2634477...\n",
       "22   23        KAB. TUBAN  {\"rings\": [[[12434391.8479886, -754223.6068691...\n",
       "23   24     KAB. LAMONGAN  {\"rings\": [[[12517868.6206368, -767409.8462843...\n",
       "24   25       KAB. GRESIK  {\"rings\": [[[12521919.9188342, -770033.4786516...\n",
       "25   26    KAB. BANGKALAN  {\"rings\": [[[12582917.5055605, -767681.1541382...\n",
       "26   27      KAB. SAMPANG  {\"rings\": [[[12602040.3267406, -815588.2429097...\n",
       "27   28    KAB. PAMEKASAN  {\"rings\": [[[12634996.4081082, -808171.7020585...\n",
       "28   29      KAB. SUMENEP  {\"rings\": [[[12660138.62751, -809304.039542525...\n",
       "29   30       KOTA KEDIRI  {\"rings\": [[[12468098.5417425, -867787.5495061...\n",
       "30   31       KOTA BLITAR  {\"rings\": [[[12488553.5173264, -899799.0696092...\n",
       "31   32       KOTA MALANG  {\"rings\": [[[12537945.816008, -883491.73867398...\n",
       "32   33  KOTA PROBOLINGGO  {\"rings\": [[[12603232.4560908, -863449.8475717...\n",
       "33   34     KOTA PASURUAN  {\"rings\": [[[12573757.6815336, -851199.0053771...\n",
       "34   35    KOTA MOJOKERTO  {\"rings\": [[[12518712.9595469, -832436.2826191...\n",
       "35   36       KOTA MADIUN  {\"rings\": [[[12413429.4027088, -856838.9445745...\n",
       "36   37     KOTA SURABAYA  {\"rings\": [[[12541576.1154108, -802857.1034296...\n",
       "37   38         KOTA BATU  {\"rings\": [[[12527364.1207422, -862574.1915551..."
      ]
     },
     "execution_count": 11,
     "metadata": {},
     "output_type": "execute_result"
    }
   ],
   "source": [
    "fset.sdf"
   ]
  },
  {
   "cell_type": "code",
   "execution_count": 16,
   "metadata": {},
   "outputs": [
    {
     "data": {
      "text/plain": [
       "38"
      ]
     },
     "execution_count": 16,
     "metadata": {},
     "output_type": "execute_result"
    }
   ],
   "source": [
    "cache = {f.attributes[\"kabko\"]:f.geometry for f in features}\n",
    "len(cache)"
   ]
  },
  {
   "cell_type": "code",
   "execution_count": 17,
   "metadata": {},
   "outputs": [],
   "source": [
    "from prediksicovidjatim.mapping import updater\n",
    "from prediksicovidjatim.mapping.updater import MapUpdater"
   ]
  },
  {
   "cell_type": "code",
   "execution_count": 18,
   "metadata": {},
   "outputs": [
    {
     "data": {
      "text/plain": [
       "<prediksicovidjatim.mapping.updater.MapUpdater at 0x13c35408>"
      ]
     },
     "execution_count": 18,
     "metadata": {},
     "output_type": "execute_result"
    }
   ],
   "source": [
    "u = MapUpdater(ARCGIS_PORTAL, ARCGIS_USER, ARCGIS_PASS)\n",
    "u"
   ]
  },
  {
   "cell_type": "code",
   "execution_count": 19,
   "metadata": {},
   "outputs": [
    {
     "ename": "AttributeError",
     "evalue": "module 'prediksicovidjatim.mapping.updater' has no attribute 'GEOMETRY_CACHE'",
     "output_type": "error",
     "traceback": [
      "\u001b[1;31m---------------------------------------------------------------------------\u001b[0m",
      "\u001b[1;31mAttributeError\u001b[0m                            Traceback (most recent call last)",
      "\u001b[1;32m<ipython-input-19-0466757e5aec>\u001b[0m in \u001b[0;36m<module>\u001b[1;34m\u001b[0m\n\u001b[0;32m      1\u001b[0m \u001b[0mu\u001b[0m\u001b[1;33m.\u001b[0m\u001b[0mcache_kabko_geometry\u001b[0m\u001b[1;33m(\u001b[0m\u001b[0mlayer\u001b[0m\u001b[1;33m)\u001b[0m\u001b[1;33m\u001b[0m\u001b[1;33m\u001b[0m\u001b[0m\n\u001b[1;32m----> 2\u001b[1;33m \u001b[0mupdater\u001b[0m\u001b[1;33m.\u001b[0m\u001b[0mGEOMETRY_CACHE\u001b[0m\u001b[1;33m\u001b[0m\u001b[1;33m\u001b[0m\u001b[0m\n\u001b[0m",
      "\u001b[1;31mAttributeError\u001b[0m: module 'prediksicovidjatim.mapping.updater' has no attribute 'GEOMETRY_CACHE'"
     ]
    }
   ],
   "source": [
    "u.cache_kabko_geometry(layer)"
   ]
  },
  {
   "cell_type": "code",
   "execution_count": 20,
   "metadata": {},
   "outputs": [
    {
     "data": {
      "text/plain": [
       "38"
      ]
     },
     "execution_count": 20,
     "metadata": {},
     "output_type": "execute_result"
    }
   ],
   "source": [
    "len(updater.GEOSHAPE_CACHE)"
   ]
  },
  {
   "cell_type": "code",
   "execution_count": null,
   "metadata": {},
   "outputs": [],
   "source": []
  }
 ],
 "metadata": {
  "kernelspec": {
   "display_name": "Python 3",
   "language": "python",
   "name": "python3"
  },
  "language_info": {
   "codemirror_mode": {
    "name": "ipython",
    "version": 3
   },
   "file_extension": ".py",
   "mimetype": "text/x-python",
   "name": "python",
   "nbconvert_exporter": "python",
   "pygments_lexer": "ipython3",
   "version": "3.7.6"
  }
 },
 "nbformat": 4,
 "nbformat_minor": 4
}
